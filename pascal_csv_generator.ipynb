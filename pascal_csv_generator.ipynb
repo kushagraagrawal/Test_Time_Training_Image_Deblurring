{
 "cells": [
  {
   "cell_type": "code",
   "execution_count": 2,
   "id": "43a5982a",
   "metadata": {},
   "outputs": [],
   "source": [
    "import os\n",
    "import numpy as np\n",
    "import xml.etree.ElementTree as ET\n",
    "from collections import defaultdict"
   ]
  },
  {
   "cell_type": "markdown",
   "id": "f4c3b7d9",
   "metadata": {},
   "source": [
    "### PASCAL"
   ]
  },
  {
   "cell_type": "code",
   "execution_count": 3,
   "id": "3f4318fc",
   "metadata": {},
   "outputs": [],
   "source": [
    "def read_content(xml_file: str):\n",
    "\n",
    "    tree = ET.parse(xml_file)\n",
    "    root = tree.getroot()\n",
    "\n",
    "    categories = []\n",
    "\n",
    "    for boxes in root.iter('object'):\n",
    "        categories.append(boxes.find('name').text)\n",
    "    # print(categories)\n",
    "    if len(set(categories))>1:\n",
    "        return \"Multiple\"\n",
    "    else:\n",
    "        return categories[0]"
   ]
  },
  {
   "cell_type": "code",
   "execution_count": 4,
   "id": "7472534f",
   "metadata": {},
   "outputs": [
    {
     "data": {
      "text/plain": [
       "defaultdict(int,\n",
       "            {'person': 5974,\n",
       "             'Multiple': 4889,\n",
       "             'cat': 845,\n",
       "             'sheep': 279,\n",
       "             'bird': 730,\n",
       "             'car': 455,\n",
       "             'bicycle': 185,\n",
       "             'boat': 311,\n",
       "             'train': 402,\n",
       "             'sofa': 98,\n",
       "             'horse': 244,\n",
       "             'dog': 805,\n",
       "             'chair': 178,\n",
       "             'aeroplane': 584,\n",
       "             'pottedplant': 145,\n",
       "             'tvmonitor': 190,\n",
       "             'bus': 154,\n",
       "             'diningtable': 28,\n",
       "             'bottle': 185,\n",
       "             'cow': 264,\n",
       "             'motorbike': 180})"
      ]
     },
     "execution_count": 4,
     "metadata": {},
     "output_type": "execute_result"
    }
   ],
   "source": [
    "folder = \"VOCdevkit/VOC2012/Annotations/\"\n",
    "total = defaultdict(int)\n",
    "for f in os.listdir(folder):\n",
    "    categ = read_content(folder+f)\n",
    "    if categ: total[categ]+=1\n",
    "total"
   ]
  },
  {
   "cell_type": "code",
   "execution_count": 5,
   "id": "c2a53735",
   "metadata": {},
   "outputs": [],
   "source": [
    "pascal_voc_class_maps = {'person': 1,\n",
    "                 'bicycle': 2,\n",
    "                 'car': 3,\n",
    "                 'motorbike': 4,\n",
    "                 'aeroplane': 5,\n",
    "                 'bus': 6,\n",
    "                 'train': 7,\n",
    "                 'boat': 9,\n",
    "                 'bird': 16,\n",
    "                 'bottle': 44,\n",
    "                 'cat': 17,\n",
    "                 'chair': 62,\n",
    "                 'cow': 21,\n",
    "                 'diningtable': 67,\n",
    "                 'dog': 18,\n",
    "                 'horse': 19,\n",
    "                 'pottedplant': 64,\n",
    "                 'sheep': 20,\n",
    "                 'sofa': 63,\n",
    "                 'tvmonitor': 72}"
   ]
  },
  {
   "cell_type": "code",
   "execution_count": 6,
   "id": "67422216",
   "metadata": {},
   "outputs": [],
   "source": [
    "annotationFolder = \"VOCdevkit/VOC2012/Annotations/\"\n",
    "imageFolder = \"VOCdevkit/VOC2012/JPEGImages/\"\n",
    "total = defaultdict(list)\n",
    "for f in os.listdir(annotationFolder):\n",
    "    categ = read_content(annotationFolder+f)\n",
    "    fileName = f.split('.')[0] + '.jpg'\n",
    "    if(categ in pascal_voc_class_maps.keys()):\n",
    "        total['fileName'].append(imageFolder + fileName)\n",
    "        total['class'].append(pascal_voc_class_maps[categ])"
   ]
  },
  {
   "cell_type": "code",
   "execution_count": 7,
   "id": "91ff56fe",
   "metadata": {},
   "outputs": [],
   "source": [
    "import pandas as pd\n",
    "df = pd.DataFrame.from_dict(total)\n",
    "# df.to_csv('pascalvoc.csv', index=False)"
   ]
  },
  {
   "cell_type": "code",
   "execution_count": 8,
   "id": "dd867717",
   "metadata": {},
   "outputs": [
    {
     "data": {
      "text/plain": [
       "1     5974\n",
       "17     845\n",
       "18     805\n",
       "16     730\n",
       "5      584\n",
       "3      455\n",
       "7      402\n",
       "9      311\n",
       "20     279\n",
       "21     264\n",
       "19     244\n",
       "72     190\n",
       "2      185\n",
       "44     185\n",
       "4      180\n",
       "62     178\n",
       "6      154\n",
       "64     145\n",
       "63      98\n",
       "67      28\n",
       "Name: class, dtype: int64"
      ]
     },
     "execution_count": 8,
     "metadata": {},
     "output_type": "execute_result"
    }
   ],
   "source": [
    "df['class'].value_counts()"
   ]
  },
  {
   "cell_type": "code",
   "execution_count": 9,
   "id": "6012264d",
   "metadata": {},
   "outputs": [],
   "source": [
    "def returnSample(inputDf):\n",
    "    if(inputDf.shape[0] > 100):\n",
    "        return inputDf.sample(100, random_state=42)\n",
    "    return inputDf.sample(inputDf.shape[0], random_state=42)"
   ]
  },
  {
   "cell_type": "code",
   "execution_count": 10,
   "id": "40e46a6d",
   "metadata": {},
   "outputs": [
    {
     "data": {
      "text/plain": [
       "1     100\n",
       "17    100\n",
       "64    100\n",
       "62    100\n",
       "44    100\n",
       "21    100\n",
       "20    100\n",
       "19    100\n",
       "2     100\n",
       "18    100\n",
       "16    100\n",
       "9     100\n",
       "7     100\n",
       "6     100\n",
       "5     100\n",
       "4     100\n",
       "3     100\n",
       "72    100\n",
       "63     98\n",
       "67     28\n",
       "Name: class, dtype: int64"
      ]
     },
     "execution_count": 10,
     "metadata": {},
     "output_type": "execute_result"
    }
   ],
   "source": [
    "ef = df.groupby('class', group_keys=False).apply(returnSample)\n",
    "ef.reset_index(drop=True, inplace=True)\n",
    "ef['class'].value_counts()"
   ]
  },
  {
   "cell_type": "code",
   "execution_count": 11,
   "id": "7991017a",
   "metadata": {},
   "outputs": [],
   "source": [
    "ef.to_csv('pascalvoc_test.csv', index=False)"
   ]
  },
  {
   "cell_type": "code",
   "execution_count": 12,
   "id": "791325c1",
   "metadata": {},
   "outputs": [
    {
     "data": {
      "text/plain": [
       "array([ 1, 17, 20, 16,  3,  2,  9,  7, 63, 19, 18, 62,  5, 64, 72,  6, 67,\n",
       "       44, 21,  4])"
      ]
     },
     "execution_count": 12,
     "metadata": {},
     "output_type": "execute_result"
    }
   ],
   "source": [
    "import pandas as pd\n",
    "df = pd.read_csv('pascalvoc.csv')\n",
    "df['class'].unique()"
   ]
  },
  {
   "cell_type": "code",
   "execution_count": null,
   "id": "fc995e26",
   "metadata": {},
   "outputs": [],
   "source": []
  }
 ],
 "metadata": {
  "interpreter": {
   "hash": "43d301b19b9954a842d51ffe2672870c4fa3a427b4df29b0836b8365e81f7389"
  },
  "kernelspec": {
   "display_name": "Python 3 (ipykernel)",
   "language": "python",
   "name": "python3"
  },
  "language_info": {
   "codemirror_mode": {
    "name": "ipython",
    "version": 3
   },
   "file_extension": ".py",
   "mimetype": "text/x-python",
   "name": "python",
   "nbconvert_exporter": "python",
   "pygments_lexer": "ipython3",
   "version": "3.8.13"
  }
 },
 "nbformat": 4,
 "nbformat_minor": 5
}
