{
 "cells": [
  {
   "cell_type": "code",
   "execution_count": 28,
   "metadata": {},
   "outputs": [],
   "source": [
    "# ============= imports =============\n",
    "import torch\n",
    "import torch.nn as nn\n",
    "from torch.utils.data import DataLoader\n",
    "import torch.optim as optim\n",
    "import torchvision.transforms as transforms\n",
    "from Models import Unet_encoder, Unet_decoder, Classifier\n",
    "import numpy as np\n",
    "from PIL import Image\n",
    "import cv2\n",
    "import matplotlib.pyplot as plt\n",
    "import copy\n",
    "from test import get_metrics"
   ]
  },
  {
   "cell_type": "code",
   "execution_count": 4,
   "metadata": {},
   "outputs": [],
   "source": [
    "# ============= torch cuda =============\n",
    "if torch.cuda.is_available():\n",
    "    device = 'cuda'\n",
    "    torch.cuda.empty_cache()\n",
    "else:\n",
    "    device = 'cpu'"
   ]
  },
  {
   "cell_type": "code",
   "execution_count": 16,
   "metadata": {},
   "outputs": [],
   "source": [
    "def motion_blur_horizontal(img_path,kernel_size):\n",
    "    img = cv2.imread(img_path)\n",
    "\n",
    "    kernel_h = np.zeros((kernel_size, kernel_size))\n",
    "    kernel_h[int((kernel_size - 1)/2), :] = np.ones(kernel_size)\n",
    "    kernel_h /= kernel_size\n",
    "\n",
    "    horizontal_mb = cv2.filter2D(img, -1, kernel_h)\n",
    "    horizontal_mb = cv2.cvtColor(horizontal_mb, cv2.COLOR_RGB2BGR)\n",
    "    return horizontal_mb\n",
    "    \n",
    "def motion_blur_vertical(img_path,kernel_size):\n",
    "    img = cv2.imread(img_path)\n",
    "    kernel_v = np.zeros((kernel_size, kernel_size))\n",
    "    kernel_v[:, int((kernel_size - 1)/2)] = np.ones(kernel_size)\n",
    "    kernel_v /= kernel_size\n",
    "    vertical_mb = cv2.filter2D(img, -1, kernel_v)\n",
    "    vertical_mb = cv2.cvtColor(vertical_mb, cv2.COLOR_RGB2BGR)\n",
    "    return vertical_mb\n",
    "    \n",
    "def gaussian_blur(img_path,k_size):\n",
    "    img = cv2.imread(img_path)\n",
    "    img = cv2.GaussianBlur(img,(k_size,k_size),0)\n",
    "    img = cv2.cvtColor(img, cv2.COLOR_RGB2BGR)\n",
    "    return img\n",
    "    \n",
    "def avg_blur(img_path,k_size):\n",
    "    img = cv2.imread(img_path)\n",
    "    img = cv2.blur(img, (k_size,k_size))\n",
    "    img = cv2.cvtColor(img, cv2.COLOR_RGB2BGR)\n",
    "    return img\n",
    "        \n",
    "def getBlurredOutput(img_path):\n",
    "    p = torch.rand(1)\n",
    "    k_size = 15\n",
    "        \n",
    "    if p<=0.25:\n",
    "        return motion_blur_vertical(img_path,k_size)\n",
    "    if p<=0.5:\n",
    "        return motion_blur_horizontal(img_path,k_size)\n",
    "    if p<=0.75:\n",
    "        return avg_blur(img_path,k_size)\n",
    "    else:\n",
    "        return gaussian_blur(img_path,k_size)"
   ]
  },
  {
   "cell_type": "code",
   "execution_count": 19,
   "metadata": {},
   "outputs": [],
   "source": [
    "def image_loader(imgPath):\n",
    "    '''\n",
    "        Function to return image tensor\n",
    "        :params imgPath: path to input image\n",
    "        :type imgPath: str\n",
    "        :return: dictionary with groundTruth image and blurred image\n",
    "    '''\n",
    "    image = Image.open(imgPath)\n",
    "    blurredImage = getBlurredOutput(imgPath)\n",
    "    \n",
    "    imageTransform = transforms.Compose([\n",
    "        transforms.ToTensor(),\n",
    "        transforms.Resize((256, 256))\n",
    "    ])\n",
    "\n",
    "    image = imageTransform(image)\n",
    "    blurredImage = imageTransform(blurredImage)\n",
    "    return {'image': image.to(device), 'inputImg': blurredImage}"
   ]
  },
  {
   "cell_type": "code",
   "execution_count": null,
   "metadata": {},
   "outputs": [],
   "source": [
    "imageDict = image_loader('PATH')"
   ]
  },
  {
   "cell_type": "code",
   "execution_count": 22,
   "metadata": {},
   "outputs": [],
   "source": [
    "encoder = Unet_encoder(in_channels=3).to(device)\n",
    "decoder = Unet_decoder().to(device)\n",
    "classifier = Classifier().to(device)\n",
    "\n",
    "encoder_new = copy.deepcopy(encoder).to(device)\n",
    "decoder_new = decoder\n",
    "classifier_new = copy.deepcopy(classifier).to(device)"
   ]
  },
  {
   "cell_type": "code",
   "execution_count": 23,
   "metadata": {},
   "outputs": [],
   "source": [
    "# =========== Load state dict for both encoder, and encoder new ==========="
   ]
  },
  {
   "cell_type": "code",
   "execution_count": 29,
   "metadata": {},
   "outputs": [],
   "source": [
    "encoder.eval()\n",
    "decoder.eval()\n",
    "classifier.eval()\n",
    "\n",
    "with torch.no_grad():\n",
    "    x, skip_connections = encoder(imageDict['inputImg'])\n",
    "    pred_img = decoder(x, skip_connections)\n",
    "    psnr, ssim, uqi = get_metrics(imageDict['image'], pred_img)\n",
    "    print('Without Test Time Training')\n",
    "    print('psnr: {:.4f}, ssim: {:.4f}, uqi: {:.4f}'.format(psnr, ssim, uqi))\n",
    "    \n",
    "with torch.no_grad():\n",
    "    x, skip_connections = encoder_new(imageDict['inputImg'])\n",
    "    pred_img = decoder_new(x, skip_connections)\n",
    "    psnr, ssim, uqi = get_metrics(imageDict['image'], pred_img)\n",
    "    print('With Test Time Training')\n",
    "    print('psnr: {:.4f}, ssim: {:.4f}, uqi: {:.4f}'.format(psnr, ssim, uqi))"
   ]
  }
 ],
 "metadata": {
  "interpreter": {
   "hash": "43d301b19b9954a842d51ffe2672870c4fa3a427b4df29b0836b8365e81f7389"
  },
  "kernelspec": {
   "display_name": "Python 3 (ipykernel)",
   "language": "python",
   "name": "python3"
  },
  "language_info": {
   "codemirror_mode": {
    "name": "ipython",
    "version": 3
   },
   "file_extension": ".py",
   "mimetype": "text/x-python",
   "name": "python",
   "nbconvert_exporter": "python",
   "pygments_lexer": "ipython3",
   "version": "3.8.13"
  }
 },
 "nbformat": 4,
 "nbformat_minor": 2
}
