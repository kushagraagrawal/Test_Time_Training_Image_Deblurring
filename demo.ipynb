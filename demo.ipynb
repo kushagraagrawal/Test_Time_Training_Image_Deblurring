{
 "cells": [
  {
   "cell_type": "code",
   "execution_count": null,
   "metadata": {},
   "outputs": [],
   "source": [
    "# ============= imports =============\n",
    "import torch\n",
    "import torch.nn as nn\n",
    "from torch.utils.data import DataLoader\n",
    "import torch.optim as optim\n",
    "import torchvision.transforms as transforms\n",
    "from Model_architectures import Unet\n",
    "import numpy as np\n",
    "from PIL import Image\n",
    "import cv2\n",
    "import matplotlib.pyplot as plt\n",
    "import copy\n",
    "import sewar\n",
    "from torchvision.utils import save_image"
   ]
  },
  {
   "cell_type": "code",
   "execution_count": null,
   "metadata": {},
   "outputs": [],
   "source": [
    "# ============= torch cuda =============\n",
    "if torch.cuda.is_available():\n",
    "    device = 'cuda'\n",
    "    torch.cuda.empty_cache()\n",
    "else:\n",
    "    device = 'cpu'"
   ]
  },
  {
   "cell_type": "code",
   "execution_count": null,
   "metadata": {},
   "outputs": [],
   "source": [
    "def normalize_img(img):\n",
    "    norm_image = cv2.normalize(img, None, alpha = 0, beta = 255, norm_type = cv2.NORM_MINMAX, dtype = cv2.CV_32F)\n",
    "    norm_image = norm_image.astype(np.uint8)\n",
    "    return norm_image\n",
    "\n",
    "def get_metrics(orig_img,pred_img):\n",
    "    \n",
    "    #converting to numpy array\n",
    "    orig_img = orig_img.permute(1,2,0).detach().cpu().numpy()\n",
    "    pred_img = pred_img.permute(1,2,0).detach().cpu().numpy()\n",
    "    \n",
    "    #normalization\n",
    "    orig_img = normalize_img(orig_img)\n",
    "    pred_img = normalize_img(pred_img)\n",
    "    \n",
    "    #psnr\n",
    "    psnr_score = sewar.psnr(pred_img,orig_img)\n",
    "    #ssim\n",
    "    ssim_score = sewar.ssim(pred_img,orig_img)[0]\n",
    "    #uqi\n",
    "    uqi_score = sewar.uqi(pred_img,orig_img)\n",
    "    \n",
    "    return psnr_score,ssim_score,uqi_score"
   ]
  },
  {
   "cell_type": "code",
   "execution_count": null,
   "metadata": {},
   "outputs": [],
   "source": [
    "def motion_blur_horizontal(img_path,kernel_size):\n",
    "    img = cv2.imread(img_path)\n",
    "\n",
    "    kernel_h = np.zeros((kernel_size, kernel_size))\n",
    "    kernel_h[int((kernel_size - 1)/2), :] = np.ones(kernel_size)\n",
    "    kernel_h /= kernel_size\n",
    "\n",
    "    horizontal_mb = cv2.filter2D(img, -1, kernel_h)\n",
    "    horizontal_mb = cv2.cvtColor(horizontal_mb, cv2.COLOR_RGB2BGR)\n",
    "    return horizontal_mb\n",
    "    \n",
    "def motion_blur_vertical(img_path,kernel_size):\n",
    "    img = cv2.imread(img_path)\n",
    "    kernel_v = np.zeros((kernel_size, kernel_size))\n",
    "    kernel_v[:, int((kernel_size - 1)/2)] = np.ones(kernel_size)\n",
    "    kernel_v /= kernel_size\n",
    "    vertical_mb = cv2.filter2D(img, -1, kernel_v)\n",
    "    vertical_mb = cv2.cvtColor(vertical_mb, cv2.COLOR_RGB2BGR)\n",
    "    return vertical_mb\n",
    "    \n",
    "def gaussian_blur(img_path,k_size):\n",
    "    img = cv2.imread(img_path)\n",
    "    img = cv2.GaussianBlur(img,(k_size,k_size),0)\n",
    "    img = cv2.cvtColor(img, cv2.COLOR_RGB2BGR)\n",
    "    return img\n",
    "    \n",
    "def avg_blur(img_path,k_size):\n",
    "    img = cv2.imread(img_path)\n",
    "    img = cv2.blur(img, (k_size,k_size))\n",
    "    img = cv2.cvtColor(img, cv2.COLOR_RGB2BGR)\n",
    "    return img\n",
    "        \n",
    "def getBlurredOutput(img_path):\n",
    "    p = torch.rand(1)\n",
    "    k_size = 15\n",
    "        \n",
    "    if p<=0.25:\n",
    "        return motion_blur_vertical(img_path,k_size)\n",
    "    if p<=0.5:\n",
    "        return motion_blur_horizontal(img_path,k_size)\n",
    "    if p<=0.75:\n",
    "        return avg_blur(img_path,k_size)\n",
    "    else:\n",
    "        return gaussian_blur(img_path,k_size)"
   ]
  },
  {
   "cell_type": "code",
   "execution_count": null,
   "metadata": {},
   "outputs": [],
   "source": [
    "def image_loader(imgPath):\n",
    "    '''\n",
    "        Function to return image tensor\n",
    "        :params imgPath: path to input image\n",
    "        :type imgPath: str\n",
    "        :return: dictionary with groundTruth image and blurred image\n",
    "    '''\n",
    "    image = Image.open(imgPath)\n",
    "    blurredImage = getBlurredOutput(imgPath)\n",
    "    \n",
    "    imageTransform = transforms.Compose([\n",
    "        transforms.ToTensor(),\n",
    "        transforms.Resize((256, 256))\n",
    "    ])\n",
    "\n",
    "    image = imageTransform(image)\n",
    "    blurredImage = imageTransform(blurredImage)\n",
    "    return {'image': image.to(device), 'inputImg': blurredImage.to(device)}"
   ]
  },
  {
   "cell_type": "code",
   "execution_count": null,
   "metadata": {},
   "outputs": [],
   "source": [
    "def plot_outputs(gtImg, blurImg, beforeTTT, afterTTT):\n",
    "    fig,axs = plt.subplots(1,3, figsize=(20, 20))\n",
    "    axs[0].imshow(blurImg.permute(1,2,0))\n",
    "    axs[0].set_xlabel('Input Blur Image', fontsize=15)\n",
    "    axs[1].imshow(beforeTTT.permute(1,2,0))\n",
    "    axs[1].set_xlabel('Without TTT', fontsize=15)\n",
    "    axs[2].imshow(afterTTT.permute(1,2,0))\n",
    "    axs[2].set_xlabel('After TTT', fontsize=15)\n",
    "    return axs"
   ]
  },
  {
   "cell_type": "code",
   "execution_count": null,
   "metadata": {},
   "outputs": [],
   "source": [
    "imageDict = image_loader('VOCdevkit/VOC2012/JPEGImages/2008_008772.jpg')"
   ]
  },
  {
   "cell_type": "code",
   "execution_count": null,
   "metadata": {},
   "outputs": [],
   "source": [
    "encoder = Unet.Encoder(in_channels=3).to(device)\n",
    "decoder = Unet.Decoder().to(device)\n",
    "classifier = Unet.Classifier().to(device)\n",
    "\n",
    "encoder_new = copy.deepcopy(encoder).to(device)\n",
    "decoder_new = decoder\n",
    "classifier_new = copy.deepcopy(classifier).to(device)"
   ]
  },
  {
   "cell_type": "code",
   "execution_count": null,
   "metadata": {},
   "outputs": [],
   "source": [
    "# =========== Load state dict for both encoder, and encoder new ===========\n",
    "encoder.load_state_dict(torch.load('./Unet_all_blur/encoder.pth'))\n",
    "decoder.load_state_dict(torch.load('./Unet_all_blur/decoder.pth'))\n",
    "classifier.load_state_dict(torch.load('./Unet_all_blur/classifier.pth'))\n",
    "\n",
    "test_time_checkpoint = torch.load('./Unet_all_blur/continuous_ttt_20.ckpt')\n",
    "encoder_new.load_state_dict(test_time_checkpoint['encoder'])\n",
    "decoder_new.load_state_dict(test_time_checkpoint['decoder'])\n",
    "classifier_new.load_state_dict(test_time_checkpoint['classifier'])"
   ]
  },
  {
   "cell_type": "code",
   "execution_count": null,
   "metadata": {},
   "outputs": [],
   "source": [
    "encoder.eval()\n",
    "decoder.eval()\n",
    "classifier.eval()\n",
    "\n",
    "with torch.no_grad():\n",
    "    x, skip_connections = encoder(imageDict['inputImg'].unsqueeze(0))\n",
    "    pred_img_beforeTTT = decoder(x, skip_connections)\n",
    "    save_image(pred_img_beforeTTT.squeeze(), 'beforeTTT.png')\n",
    "    psnr, ssim, uqi = get_metrics(imageDict['image'], pred_img_beforeTTT.squeeze())\n",
    "    print('Without Test Time Training')\n",
    "    print('psnr: {:.4f}, ssim: {:.4f}, uqi: {:.4f}'.format(psnr, ssim, uqi))\n",
    "\n",
    "encoder_new.eval()\n",
    "decoder_new.eval()\n",
    "classifier_new.eval()\n",
    "with torch.no_grad():\n",
    "    x, skip_connections = encoder_new(imageDict['inputImg'].unsqueeze(0))\n",
    "    pred_img_afterTTT = decoder_new(x, skip_connections)\n",
    "    save_image(pred_img_afterTTT.squeeze(), 'afterTTT.png')\n",
    "    psnr, ssim, uqi = get_metrics(imageDict['image'], pred_img_afterTTT.squeeze())\n",
    "    ax = plot_outputs(imageDict['image'].cpu(), imageDict['inputImg'].cpu(), pred_img_beforeTTT.squeeze().cpu(), pred_img_afterTTT.squeeze().cpu())\n",
    "    plt.show()\n",
    "    print('With Test Time Training')\n",
    "    print('psnr: {:.4f}, ssim: {:.4f}, uqi: {:.4f}'.format(psnr, ssim, uqi))"
   ]
  },
  {
   "cell_type": "code",
   "execution_count": null,
   "metadata": {},
   "outputs": [],
   "source": []
  }
 ],
 "metadata": {
  "interpreter": {
   "hash": "43d301b19b9954a842d51ffe2672870c4fa3a427b4df29b0836b8365e81f7389"
  },
  "kernelspec": {
   "display_name": "Python 3 (ipykernel)",
   "language": "python",
   "name": "python3"
  },
  "language_info": {
   "codemirror_mode": {
    "name": "ipython",
    "version": 3
   },
   "file_extension": ".py",
   "mimetype": "text/x-python",
   "name": "python",
   "nbconvert_exporter": "python",
   "pygments_lexer": "ipython3",
   "version": "3.8.13"
  }
 },
 "nbformat": 4,
 "nbformat_minor": 4
}
