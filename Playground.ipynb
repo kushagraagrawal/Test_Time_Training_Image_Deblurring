{
 "cells": [
  {
   "cell_type": "code",
   "execution_count": 2,
   "id": "43a5982a",
   "metadata": {},
   "outputs": [],
   "source": [
    "import os\n",
    "import numpy as np\n",
    "import xml.etree.ElementTree as ET\n",
    "from collections import defaultdict"
   ]
  },
  {
   "cell_type": "markdown",
   "id": "f4c3b7d9",
   "metadata": {},
   "source": [
    "### PASCAL"
   ]
  },
  {
   "cell_type": "code",
   "execution_count": 14,
   "id": "3f4318fc",
   "metadata": {},
   "outputs": [],
   "source": [
    "def read_content(xml_file: str):\n",
    "\n",
    "    tree = ET.parse(xml_file)\n",
    "    root = tree.getroot()\n",
    "\n",
    "    categories = []\n",
    "\n",
    "    for boxes in root.iter('object'):\n",
    "        categories.append(boxes.find('name').text)\n",
    "        \n",
    "    if len(set(categories))>1:\n",
    "        return \"Multiple\"\n",
    "    else:\n",
    "        return categories[0]"
   ]
  },
  {
   "cell_type": "code",
   "execution_count": 15,
   "id": "7472534f",
   "metadata": {},
   "outputs": [
    {
     "data": {
      "text/plain": [
       "defaultdict(int,\n",
       "            {'person': 5974,\n",
       "             'Multiple': 4889,\n",
       "             'cat': 845,\n",
       "             'sheep': 279,\n",
       "             'bird': 730,\n",
       "             'car': 455,\n",
       "             'bicycle': 185,\n",
       "             'boat': 311,\n",
       "             'train': 402,\n",
       "             'sofa': 98,\n",
       "             'horse': 244,\n",
       "             'dog': 805,\n",
       "             'chair': 178,\n",
       "             'aeroplane': 584,\n",
       "             'pottedplant': 145,\n",
       "             'tvmonitor': 190,\n",
       "             'bus': 154,\n",
       "             'diningtable': 28,\n",
       "             'bottle': 185,\n",
       "             'cow': 264,\n",
       "             'motorbike': 180})"
      ]
     },
     "execution_count": 15,
     "metadata": {},
     "output_type": "execute_result"
    }
   ],
   "source": [
    "folder = \"VOCdevkit/VOC2012/Annotations/\"\n",
    "total = defaultdict(int)\n",
    "for f in os.listdir(folder):\n",
    "    categ = read_content(folder+f)\n",
    "    if categ: total[categ]+=1\n",
    "total"
   ]
  },
  {
   "cell_type": "markdown",
   "id": "3eca16bc",
   "metadata": {},
   "source": [
    "### COCO"
   ]
  },
  {
   "cell_type": "code",
   "execution_count": 6,
   "id": "7273f964",
   "metadata": {},
   "outputs": [],
   "source": [
    "from pycocotools.coco import COCO\n",
    "from PIL import Image"
   ]
  },
  {
   "cell_type": "markdown",
   "id": "ffb50be2",
   "metadata": {},
   "source": [
    "PASCAL: aeroplane, bicycle,bird,boat,bottle,bus,car,cat,chair,cow,diningtable,dog,horse,motorbike,person,pottedplant,\n",
    "sheep,sofa,train,tvmonitor"
   ]
  },
  {
   "cell_type": "code",
   "execution_count": 9,
   "id": "c8083f93",
   "metadata": {},
   "outputs": [
    {
     "name": "stdout",
     "output_type": "stream",
     "text": [
      "loading annotations into memory...\n",
      "Done (t=2.81s)\n",
      "creating index...\n",
      "index created!\n",
      "Category Name: person, Category ID: 1,Number of Images:21634\n",
      "Category Name: bicycle, Category ID: 2,Number of Images:1114\n",
      "Category Name: car, Category ID: 3,Number of Images:4180\n",
      "Category Name: motorcycle, Category ID: 4,Number of Images:1219\n",
      "Category Name: airplane, Category ID: 5,Number of Images:840\n",
      "Category Name: bus, Category ID: 6,Number of Images:1350\n",
      "Category Name: train, Category ID: 7,Number of Images:1281\n",
      "Category Name: truck, Category ID: 8,Number of Images:2056\n",
      "Category Name: boat, Category ID: 9,Number of Images:1048\n",
      "Category Name: bird, Category ID: 16,Number of Images:1121\n",
      "Category Name: bottle, Category ID: 44,Number of Images:2912\n",
      "Category Name: cat, Category ID: 17,Number of Images:1480\n",
      "Category Name: chair, Category ID: 62,Number of Images:4404\n",
      "Category Name: cow, Category ID: 21,Number of Images:666\n",
      "Category Name: dining table, Category ID: 67,Number of Images:3960\n",
      "Category Name: dog, Category ID: 18,Number of Images:1521\n",
      "Category Name: horse, Category ID: 19,Number of Images:1001\n",
      "Category Name: potted plant, Category ID: 64,Number of Images:1540\n",
      "Category Name: sheep, Category ID: 20,Number of Images:489\n",
      "Category Name: couch, Category ID: 63,Number of Images:1448\n",
      "Category Name: tv, Category ID: 72,Number of Images:1577\n"
     ]
    }
   ],
   "source": [
    "coco_annotation_file_path = \"annotations/instances_val2014.json\"\n",
    "coco_annotation = COCO(annotation_file=coco_annotation_file_path)\n",
    "\n",
    "categories = ['person', 'bicycle', 'car', 'motorcycle', 'airplane', 'bus', 'train', 'truck', 'boat',\n",
    "              'bird','bottle','cat','chair','cow','dining table','dog','horse','potted plant','sheep','couch','tv']\n",
    "\n",
    "for query_name in categories:\n",
    "    query_id = coco_annotation.getCatIds(catNms=[query_name])[0]\n",
    "    img_ids = coco_annotation.getImgIds(catIds=[query_id])\n",
    "    print(f\"Category Name: {query_name}, Category ID: {query_id},Number of Images:{len(img_ids)}\")"
   ]
  },
  {
   "cell_type": "code",
   "execution_count": 10,
   "id": "3b2591ba",
   "metadata": {},
   "outputs": [
    {
     "name": "stdout",
     "output_type": "stream",
     "text": [
      "loading annotations into memory...\n",
      "Done (t=5.66s)\n",
      "creating index...\n",
      "index created!\n",
      "Category Name: person, Category ID: 1,Number of Images:45174\n",
      "Category Name: bicycle, Category ID: 2,Number of Images:2287\n",
      "Category Name: car, Category ID: 3,Number of Images:8606\n",
      "Category Name: motorcycle, Category ID: 4,Number of Images:2442\n",
      "Category Name: airplane, Category ID: 5,Number of Images:2243\n",
      "Category Name: bus, Category ID: 6,Number of Images:2791\n",
      "Category Name: train, Category ID: 7,Number of Images:2464\n",
      "Category Name: truck, Category ID: 8,Number of Images:4321\n",
      "Category Name: boat, Category ID: 9,Number of Images:2098\n",
      "Category Name: bird, Category ID: 16,Number of Images:2241\n",
      "Category Name: bottle, Category ID: 44,Number of Images:5968\n",
      "Category Name: cat, Category ID: 17,Number of Images:2818\n",
      "Category Name: chair, Category ID: 62,Number of Images:8950\n",
      "Category Name: cow, Category ID: 21,Number of Images:1389\n",
      "Category Name: dining table, Category ID: 67,Number of Images:8378\n",
      "Category Name: dog, Category ID: 18,Number of Images:3041\n",
      "Category Name: horse, Category ID: 19,Number of Images:2068\n",
      "Category Name: potted plant, Category ID: 64,Number of Images:3084\n",
      "Category Name: sheep, Category ID: 20,Number of Images:1105\n",
      "Category Name: couch, Category ID: 63,Number of Images:3170\n",
      "Category Name: tv, Category ID: 72,Number of Images:3191\n"
     ]
    }
   ],
   "source": [
    "coco_annotation_file_path = \"annotations/instances_train2014.json\"\n",
    "coco_annotation = COCO(annotation_file=coco_annotation_file_path)\n",
    "\n",
    "categories = ['person', 'bicycle', 'car', 'motorcycle', 'airplane', 'bus', 'train', 'truck', 'boat',\n",
    "              'bird','bottle','cat','chair','cow','dining table','dog','horse','potted plant','sheep','couch','tv']\n",
    "\n",
    "for query_name in categories:\n",
    "    query_id = coco_annotation.getCatIds(catNms=[query_name])[0]\n",
    "    img_ids = coco_annotation.getImgIds(catIds=[query_id])\n",
    "    print(f\"Category Name: {query_name}, Category ID: {query_id},Number of Images:{len(img_ids)}\")"
   ]
  },
  {
   "cell_type": "code",
   "execution_count": 7,
   "id": "db92c035",
   "metadata": {},
   "outputs": [
    {
     "name": "stdout",
     "output_type": "stream",
     "text": [
      "loading annotations into memory...\n",
      "Done (t=2.58s)\n",
      "creating index...\n",
      "index created!\n",
      "Number of Unique Categories: 80\n",
      "Category IDs:\n",
      "[1, 2, 3, 4, 5, 6, 7, 8, 9, 10, 11, 13, 14, 15, 16, 17, 18, 19, 20, 21, 22, 23, 24, 25, 27, 28, 31, 32, 33, 34, 35, 36, 37, 38, 39, 40, 41, 42, 43, 44, 46, 47, 48, 49, 50, 51, 52, 53, 54, 55, 56, 57, 58, 59, 60, 61, 62, 63, 64, 65, 67, 70, 72, 73, 74, 75, 76, 77, 78, 79, 80, 81, 82, 84, 85, 86, 87, 88, 89, 90]\n",
      "Categories Names:\n",
      "['person', 'bicycle', 'car', 'motorcycle', 'airplane', 'bus', 'train', 'truck', 'boat', 'traffic light', 'fire hydrant', 'stop sign', 'parking meter', 'bench', 'bird', 'cat', 'dog', 'horse', 'sheep', 'cow', 'elephant', 'bear', 'zebra', 'giraffe', 'backpack', 'umbrella', 'handbag', 'tie', 'suitcase', 'frisbee', 'skis', 'snowboard', 'sports ball', 'kite', 'baseball bat', 'baseball glove', 'skateboard', 'surfboard', 'tennis racket', 'bottle', 'wine glass', 'cup', 'fork', 'knife', 'spoon', 'bowl', 'banana', 'apple', 'sandwich', 'orange', 'broccoli', 'carrot', 'hot dog', 'pizza', 'donut', 'cake', 'chair', 'couch', 'potted plant', 'bed', 'dining table', 'toilet', 'tv', 'laptop', 'mouse', 'remote', 'keyboard', 'cell phone', 'microwave', 'oven', 'toaster', 'sink', 'refrigerator', 'book', 'clock', 'vase', 'scissors', 'teddy bear', 'hair drier', 'toothbrush']\n",
      "Category ID -> Category Name:\n",
      "Category ID: 1, Category Name: person, Supercategory: person\n",
      "Category Name -> ID:\n",
      "Category Name: car, Category ID: 3\n",
      "Number of Images Containing car: 4180\n",
      "Image ID: 81922, File Name: COCO_val2014_000000081922.jpg, Image URL: http://images.cocodataset.org/val2014/COCO_val2014_000000081922.jpg\n",
      "Annotations for Image ID 81922:\n",
      "[{'segmentation': [[183.23, 360.85, 211.7, 361.13, 208.57, 365.97, 205.15, 373.66, 203.44, 381.06, 202.59, 386.19, 200.31, 393.3, 199.74, 401.27, 199.74, 404.41, 198.89, 405.55, 191.77, 404.41, 185.23, 404.98, 184.09, 406.4, 173.27, 406.68, 172.41, 404.69, 172.13, 399.0, 173.27, 391.6, 173.27, 386.76, 174.41, 380.78, 174.41, 376.22, 174.12, 374.51, 175.26, 375.94, 178.39, 367.4, 183.23, 361.7]], 'area': 1273.9928500000003, 'iscrowd': 0, 'image_id': 81922, 'bbox': [172.13, 360.85, 39.57, 45.83], 'category_id': 3, 'id': 137691}, {'segmentation': [[200.03, 416.82, 200.82, 394.15, 202.2, 385.68, 203.77, 378.39, 213.0, 359.27, 215.3, 354.28, 217.22, 353.13, 236.01, 351.6, 259.01, 352.37, 264.76, 353.52, 268.6, 356.2, 270.51, 364.25, 275.5, 371.54, 276.27, 378.82, 278.95, 386.49, 280.87, 394.55, 283.17, 401.45, 282.02, 407.58, 282.4, 417.93, 282.4, 420.62, 267.83, 420.62, 265.15, 420.62, 265.53, 415.63, 217.22, 414.48, 216.45, 418.7, 208.02, 420.24, 203.03, 418.7, 199.58, 417.93]], 'area': 4687.5641000000005, 'iscrowd': 0, 'image_id': 81922, 'bbox': [199.58, 351.6, 83.59, 69.02], 'category_id': 3, 'id': 141043}, {'segmentation': [[309.03, 404.91, 333.88, 404.01, 339.3, 410.79, 341.95, 396.96, 341.95, 386.46, 332.39, 372.13, 308.52, 372.13, 298.01, 387.41, 298.96, 410.34]], 'area': 1312.7367500000005, 'iscrowd': 0, 'image_id': 81922, 'bbox': [298.01, 372.13, 43.94, 38.66], 'category_id': 3, 'id': 141084}, {'segmentation': [[344.31, 391.46, 359.59, 390.89, 362.8, 397.68, 363.18, 403.53, 364.69, 404.85, 364.31, 409.57, 355.63, 409.0, 341.67, 408.62, 342.61, 394.66]], 'area': 363.21195, 'iscrowd': 0, 'image_id': 81922, 'bbox': [341.67, 390.89, 23.02, 18.68], 'category_id': 3, 'id': 144187}, {'segmentation': [[276.83, 380.36, 270.23, 367.82, 274.19, 365.18, 283.43, 365.18, 293.99, 365.84, 299.27, 374.42, 301.91, 379.7, 299.27, 384.98, 299.27, 398.84, 299.27, 406.1, 295.97, 412.7, 291.35, 411.38, 293.33, 406.1, 286.07, 406.1, 284.09, 408.08, 282.77, 408.08, 283.43, 402.14, 283.43, 395.54, 278.15, 382.34, 274.85, 375.08]], 'area': 869.6753999999995, 'iscrowd': 0, 'image_id': 81922, 'bbox': [270.23, 365.18, 31.68, 47.52], 'category_id': 3, 'id': 145293}, {'segmentation': [[421.27, 412.72, 427.69, 412.49, 428.26, 409.17, 427.23, 405.16, 418.87, 404.93, 417.26, 409.97, 418.07, 413.3, 420.36, 413.41]], 'area': 77.44300000000007, 'iscrowd': 0, 'image_id': 81922, 'bbox': [417.26, 404.93, 11.0, 8.48], 'category_id': 3, 'id': 145877}, {'segmentation': [[363.1, 397.62, 363.46, 403.0, 364.8, 404.79, 364.71, 408.91, 364.44, 409.36, 377.89, 410.26, 378.7, 407.3, 377.17, 403.89, 377.62, 397.44]], 'area': 168.9075500000001, 'iscrowd': 0, 'image_id': 81922, 'bbox': [363.1, 397.44, 15.6, 12.82], 'category_id': 3, 'id': 146442}, {'segmentation': [[264.97, 195.87, 273.93, 200.95, 290.07, 203.63, 336.67, 200.95, 365.95, 201.24, 377.0, 207.82, 365.35, 213.79, 361.47, 214.09, 361.17, 218.87, 358.78, 222.46, 357.59, 216.78, 330.7, 216.18, 330.7, 222.75, 320.24, 221.86, 314.27, 218.87, 303.21, 219.77, 304.41, 222.75, 307.1, 226.34, 301.12, 226.64, 299.33, 230.22, 294.55, 223.35, 298.13, 222.16, 298.13, 220.66, 280.51, 219.47, 263.48, 218.57, 238.98, 213.79, 220.75, 209.61, 224.94, 208.41, 218.07, 205.13, 227.03, 205.43, 218.36, 184.51, 227.03, 183.32, 246.15, 202.14, 254.81, 206.02, 274.23, 204.83, 263.48, 198.26, 264.97, 194.67]], 'area': 2586.79225, 'iscrowd': 0, 'image_id': 81922, 'bbox': [218.07, 183.32, 158.93, 46.9], 'category_id': 5, 'id': 156605}, {'segmentation': [[381.54, 409.94, 389.64, 410.53, 390.23, 408.32, 390.08, 404.78, 389.64, 402.87, 383.6, 402.13, 380.95, 403.02, 380.51, 406.11, 379.92, 409.65, 380.51, 409.5]], 'area': 72.8780499999999, 'iscrowd': 0, 'image_id': 81922, 'bbox': [379.92, 402.13, 10.31, 8.4], 'category_id': 3, 'id': 1340515}, {'segmentation': [[0.0, 352.77, 11.8, 368.75, 18.82, 379.89, 24.63, 372.63, 34.8, 372.38, 44.97, 375.29, 49.32, 381.83, 48.6, 387.4, 47.87, 392.48, 32.38, 396.35, 29.23, 401.44, 37.7, 415.0, 40.61, 425.41, 40.37, 426.0, 0.0, 426.0]], 'area': 2239.1770500000002, 'iscrowd': 0, 'image_id': 81922, 'bbox': [0.0, 352.77, 49.32, 73.23], 'category_id': 3, 'id': 1349779}]\n"
     ]
    },
    {
     "ename": "NameError",
     "evalue": "name 'requests' is not defined",
     "output_type": "error",
     "traceback": [
      "\u001b[0;31m---------------------------------------------------------------------------\u001b[0m",
      "\u001b[0;31mNameError\u001b[0m                                 Traceback (most recent call last)",
      "\u001b[0;32m/var/folders/4z/qx7dcv2s1f13n9qd0cqkyjdc0000gn/T/ipykernel_11896/4272349798.py\u001b[0m in \u001b[0;36m<module>\u001b[0;34m\u001b[0m\n\u001b[1;32m     51\u001b[0m \u001b[0;34m\u001b[0m\u001b[0m\n\u001b[1;32m     52\u001b[0m \u001b[0;31m# Use URL to load image.\u001b[0m\u001b[0;34m\u001b[0m\u001b[0;34m\u001b[0m\u001b[0;34m\u001b[0m\u001b[0m\n\u001b[0;32m---> 53\u001b[0;31m \u001b[0mim\u001b[0m \u001b[0;34m=\u001b[0m \u001b[0mImage\u001b[0m\u001b[0;34m.\u001b[0m\u001b[0mopen\u001b[0m\u001b[0;34m(\u001b[0m\u001b[0mrequests\u001b[0m\u001b[0;34m.\u001b[0m\u001b[0mget\u001b[0m\u001b[0;34m(\u001b[0m\u001b[0mimg_url\u001b[0m\u001b[0;34m,\u001b[0m \u001b[0mstream\u001b[0m\u001b[0;34m=\u001b[0m\u001b[0;32mTrue\u001b[0m\u001b[0;34m)\u001b[0m\u001b[0;34m.\u001b[0m\u001b[0mraw\u001b[0m\u001b[0;34m)\u001b[0m\u001b[0;34m\u001b[0m\u001b[0;34m\u001b[0m\u001b[0m\n\u001b[0m\u001b[1;32m     54\u001b[0m \u001b[0;34m\u001b[0m\u001b[0m\n\u001b[1;32m     55\u001b[0m \u001b[0;31m# Save image and its labeled version.\u001b[0m\u001b[0;34m\u001b[0m\u001b[0;34m\u001b[0m\u001b[0;34m\u001b[0m\u001b[0m\n",
      "\u001b[0;31mNameError\u001b[0m: name 'requests' is not defined"
     ]
    }
   ],
   "source": [
    "coco_annotation_file_path = \"annotations/instances_val2014.json\"\n",
    "\n",
    "coco_annotation = COCO(annotation_file=coco_annotation_file_path)\n",
    "\n",
    "# Category IDs.\n",
    "cat_ids = coco_annotation.getCatIds()\n",
    "print(f\"Number of Unique Categories: {len(cat_ids)}\")\n",
    "print(\"Category IDs:\")\n",
    "print(cat_ids)  # The IDs are not necessarily consecutive.\n",
    "\n",
    "# All categories.\n",
    "cats = coco_annotation.loadCats(cat_ids)\n",
    "cat_names = [cat[\"name\"] for cat in cats]\n",
    "print(\"Categories Names:\")\n",
    "print(cat_names)\n",
    "\n",
    "# Category ID -> Category Name.\n",
    "query_id = cat_ids[0]\n",
    "query_annotation = coco_annotation.loadCats([query_id])[0]\n",
    "query_name = query_annotation[\"name\"]\n",
    "query_supercategory = query_annotation[\"supercategory\"]\n",
    "print(\"Category ID -> Category Name:\")\n",
    "print(\n",
    "    f\"Category ID: {query_id}, Category Name: {query_name}, Supercategory: {query_supercategory}\"\n",
    ")\n",
    "\n",
    "# Category Name -> Category ID.\n",
    "query_name = cat_names[2]\n",
    "query_id = coco_annotation.getCatIds(catNms=[query_name])[0]\n",
    "print(\"Category Name -> ID:\")\n",
    "print(f\"Category Name: {query_name}, Category ID: {query_id}\")\n",
    "\n",
    "# Get the ID of all the images containing the object of the category.\n",
    "img_ids = coco_annotation.getImgIds(catIds=[query_id])\n",
    "print(f\"Number of Images Containing {query_name}: {len(img_ids)}\")\n",
    "\n",
    "# Pick one image.\n",
    "img_id = img_ids[2]\n",
    "img_info = coco_annotation.loadImgs([img_id])[0]\n",
    "img_file_name = img_info[\"file_name\"]\n",
    "img_url = img_info[\"coco_url\"]\n",
    "print(\n",
    "    f\"Image ID: {img_id}, File Name: {img_file_name}, Image URL: {img_url}\"\n",
    ")\n",
    "\n",
    "# Get all the annotations for the specified image.\n",
    "ann_ids = coco_annotation.getAnnIds(imgIds=[img_id], iscrowd=None)\n",
    "anns = coco_annotation.loadAnns(ann_ids)\n",
    "print(f\"Annotations for Image ID {img_id}:\")\n",
    "print(anns)\n",
    "\n",
    "# Use URL to load image.\n",
    "im = Image.open(requests.get(img_url, stream=True).raw)\n",
    "\n",
    "# Save image and its labeled version.\n",
    "plt.axis(\"off\")\n",
    "plt.imshow(np.asarray(im))\n",
    "#plt.savefig(f\"{img_id}.jpg\", bbox_inches=\"tight\", pad_inches=0)\n",
    "# Plot segmentation and bounding box.\n",
    "coco_annotation.showAnns(anns, draw_bbox=True)\n",
    "#plt.savefig(f\"{img_id}_annotated.jpg\", bbox_inches=\"tight\", pad_inches=0)"
   ]
  }
 ],
 "metadata": {
  "kernelspec": {
   "display_name": "Python 3 (ipykernel)",
   "language": "python",
   "name": "python3"
  },
  "language_info": {
   "codemirror_mode": {
    "name": "ipython",
    "version": 3
   },
   "file_extension": ".py",
   "mimetype": "text/x-python",
   "name": "python",
   "nbconvert_exporter": "python",
   "pygments_lexer": "ipython3",
   "version": "3.7.8"
  }
 },
 "nbformat": 4,
 "nbformat_minor": 5
}
